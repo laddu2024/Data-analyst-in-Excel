{
  "nbformat": 4,
  "nbformat_minor": 0,
  "metadata": {
    "colab": {
      "provenance": [],
      "authorship_tag": "ABX9TyNJHoR8mt/F3sNMggmciGsk",
      "include_colab_link": true
    },
    "kernelspec": {
      "name": "python3",
      "display_name": "Python 3"
    },
    "language_info": {
      "name": "python"
    }
  },
  "cells": [
    {
      "cell_type": "markdown",
      "metadata": {
        "id": "view-in-github",
        "colab_type": "text"
      },
      "source": [
        "<a href=\"https://colab.research.google.com/github/laddu2024/Data-analyst-in-Excel/blob/main/dot%20methods.ipynb\" target=\"_parent\"><img src=\"https://colab.research.google.com/assets/colab-badge.svg\" alt=\"Open In Colab\"/></a>"
      ]
    },
    {
      "cell_type": "code",
      "execution_count": 2,
      "metadata": {
        "colab": {
          "base_uri": "https://localhost:8080/"
        },
        "id": "UuejImMsFaJD",
        "outputId": "baf427f8-acfa-404a-df35-0d08f36aa7d1"
      },
      "outputs": [
        {
          "output_type": "stream",
          "name": "stdout",
          "text": [
            "['audi', 'x6m', 'bmw', 'toyota']\n"
          ]
        }
      ],
      "source": [
        "# prompt: car = [ 'audi', 'x6m',\"bmw']\n",
        "\n",
        "car = ['audi', 'x6m', 'bmw']\n",
        "car.append('toyota')\n",
        "print(car)\n"
      ]
    },
    {
      "cell_type": "code",
      "source": [
        "car.append('toyota')\n"
      ],
      "metadata": {
        "id": "CjDsk2esGYKp"
      },
      "execution_count": null,
      "outputs": []
    },
    {
      "cell_type": "code",
      "source": [
        "print(car)"
      ],
      "metadata": {
        "colab": {
          "base_uri": "https://localhost:8080/",
          "height": 146
        },
        "id": "cSPVYEUrGhnb",
        "outputId": "ece7e2de-681e-4cbc-a3e2-ace9c5db64bd"
      },
      "execution_count": 1,
      "outputs": [
        {
          "output_type": "error",
          "ename": "NameError",
          "evalue": "name 'car' is not defined",
          "traceback": [
            "\u001b[0;31m---------------------------------------------------------------------------\u001b[0m",
            "\u001b[0;31mNameError\u001b[0m                                 Traceback (most recent call last)",
            "\u001b[0;32m<ipython-input-1-173b427c0b25>\u001b[0m in \u001b[0;36m<cell line: 1>\u001b[0;34m()\u001b[0m\n\u001b[0;32m----> 1\u001b[0;31m \u001b[0mprint\u001b[0m\u001b[0;34m(\u001b[0m\u001b[0mcar\u001b[0m\u001b[0;34m)\u001b[0m\u001b[0;34m\u001b[0m\u001b[0;34m\u001b[0m\u001b[0m\n\u001b[0m",
            "\u001b[0;31mNameError\u001b[0m: name 'car' is not defined"
          ]
        }
      ]
    },
    {
      "cell_type": "code",
      "source": [
        "friend = ['mallesh','shignesh','rani','mayur']\n",
        "friend.append('Naresh')\n",
        "print(friend)"
      ],
      "metadata": {
        "colab": {
          "base_uri": "https://localhost:8080/"
        },
        "id": "vtDLgAx7HNbB",
        "outputId": "6d1e2ce0-3fd9-48ba-fd68-7821b94f51ad"
      },
      "execution_count": 4,
      "outputs": [
        {
          "output_type": "stream",
          "name": "stdout",
          "text": [
            "['mallesh', 'shignesh', 'rani', 'mayur', 'Naresh']\n"
          ]
        }
      ]
    },
    {
      "cell_type": "code",
      "source": [
        "bike = []\n",
        "bike.append('honda')\n",
        "bike.append('yamaha')\n",
        "bike.append('suzuki')\n",
        "print(bike)"
      ],
      "metadata": {
        "colab": {
          "base_uri": "https://localhost:8080/"
        },
        "id": "DvOH9HVJHSDy",
        "outputId": "fb61174d-bb7d-4d42-e5ec-b8de94d5fa05"
      },
      "execution_count": 5,
      "outputs": [
        {
          "output_type": "stream",
          "name": "stdout",
          "text": [
            "['honda', 'yamaha', 'suzuki']\n"
          ]
        }
      ]
    },
    {
      "cell_type": "code",
      "source": [
        "bike = []\n",
        "bike_1 = [\"bullet\",\"yamaha\",\"suzuki\"]\n",
        "for x in bike_1:\n",
        "    bike.append(x)\n",
        "print(bike)"
      ],
      "metadata": {
        "colab": {
          "base_uri": "https://localhost:8080/"
        },
        "id": "NHAjHj_eIzSA",
        "outputId": "96b2f267-33d8-48bf-d704-b2142179d36b"
      },
      "execution_count": 6,
      "outputs": [
        {
          "output_type": "stream",
          "name": "stdout",
          "text": [
            "['bullet', 'yamaha', 'suzuki']\n"
          ]
        }
      ]
    },
    {
      "cell_type": "code",
      "source": [
        "bike = []\n",
        "\n",
        "bike.insert(0,'bullet')\n",
        "bike.insert(1,'yamaha')\n",
        "bike.insert(2,'suzuki')\n",
        "print(bike)"
      ],
      "metadata": {
        "colab": {
          "base_uri": "https://localhost:8080/"
        },
        "id": "S6Wr0ofuLvQ4",
        "outputId": "f6f84551-9fd0-4fda-82d4-cd4a5cb440e2"
      },
      "execution_count": 7,
      "outputs": [
        {
          "output_type": "stream",
          "name": "stdout",
          "text": [
            "['bullet', 'yamaha', 'suzuki']\n"
          ]
        }
      ]
    },
    {
      "cell_type": "code",
      "source": [],
      "metadata": {
        "id": "r66uXXgBO8Ph"
      },
      "execution_count": null,
      "outputs": []
    },
    {
      "cell_type": "code",
      "source": [],
      "metadata": {
        "id": "9zREu1xYO9OE"
      },
      "execution_count": null,
      "outputs": []
    },
    {
      "cell_type": "code",
      "source": [],
      "metadata": {
        "id": "wIFFg_WpO91d"
      },
      "execution_count": null,
      "outputs": []
    },
    {
      "cell_type": "code",
      "source": [
        "bike =[\"yamaha\",\"suzuki\"]\n",
        "bike.insert(0,'bullet')\n",
        "print(bike)"
      ],
      "metadata": {
        "colab": {
          "base_uri": "https://localhost:8080/"
        },
        "id": "m2g5EX8CMsMP",
        "outputId": "4c130ce5-020d-44ef-8e80-9eca4ff4c568"
      },
      "execution_count": 8,
      "outputs": [
        {
          "output_type": "stream",
          "name": "stdout",
          "text": [
            "['bullet', 'yamaha', 'suzuki']\n"
          ]
        }
      ]
    },
    {
      "cell_type": "code",
      "source": [
        "bike = [\"bullet\",\"yamaha\",\"suzuki\"]\n",
        "del bike[0]\n",
        "print(bike)"
      ],
      "metadata": {
        "colab": {
          "base_uri": "https://localhost:8080/"
        },
        "id": "d1cVq9URNT-y",
        "outputId": "40a967d4-49e8-45f0-bfb3-6804dfb5f6c7"
      },
      "execution_count": 13,
      "outputs": [
        {
          "output_type": "stream",
          "name": "stdout",
          "text": [
            "['yamaha', 'suzuki']\n"
          ]
        }
      ]
    },
    {
      "cell_type": "code",
      "source": [
        "bike= [\"bullet\",\"yamaha\",\"suzuki\"]\n",
        "bike.pop(0)\n",
        "print(bike)"
      ],
      "metadata": {
        "colab": {
          "base_uri": "https://localhost:8080/"
        },
        "id": "V667gGPMOZ9l",
        "outputId": "39473fce-562d-4ba5-ad02-79088f1a11d6"
      },
      "execution_count": 18,
      "outputs": [
        {
          "output_type": "stream",
          "name": "stdout",
          "text": [
            "['yamaha', 'suzuki']\n"
          ]
        }
      ]
    },
    {
      "cell_type": "code",
      "source": [
        "bike = [\"bullet\",\"yamaha\",\"suzuki\"]\n",
        "bike_1 = [\"yamaha\"]\n",
        "bike.remove('yamaha')\n",
        "print(f\"Last item removed {bike_1}\")\n"
      ],
      "metadata": {
        "colab": {
          "base_uri": "https://localhost:8080/"
        },
        "id": "cXSEQR_1O1PC",
        "outputId": "8c9bc15c-0f75-468f-d16e-6b2301d2fcef"
      },
      "execution_count": 33,
      "outputs": [
        {
          "output_type": "stream",
          "name": "stdout",
          "text": [
            "Last item removed ['yamaha']\n"
          ]
        }
      ]
    },
    {
      "cell_type": "code",
      "source": [
        "bike ="
      ],
      "metadata": {
        "id": "fOvIEooaO_hX"
      },
      "execution_count": null,
      "outputs": []
    }
  ]
}